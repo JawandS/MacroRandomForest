{
 "cells": [
  {
   "cell_type": "code",
   "execution_count": 1,
   "source": [
    "from MRF import *\n",
    "import pandas as pd"
   ],
   "outputs": [],
   "metadata": {}
  },
  {
   "cell_type": "code",
   "execution_count": 2,
   "source": [
    "data_in = pd.read_csv(\"/Users/ryanlucas/Desktop/MRF_data.csv\")"
   ],
   "outputs": [],
   "metadata": {}
  },
  {
   "cell_type": "code",
   "execution_count": 5,
   "source": [
    "mrf_output = MacroRandomForest(data=data_in,y_pos=1,x_pos=np.arange(2,5), oos_pos=np.arange(151,201),trend_push=4,quantile_rate=0.3)"
   ],
   "outputs": [
    {
     "output_type": "stream",
     "name": "stdout",
     "text": [
      "Tree 1 out of 50\n",
      "Tree 2 out of 50\n",
      "Tree 3 out of 50\n",
      "Tree 4 out of 50\n",
      "Tree 5 out of 50\n",
      "Tree 6 out of 50\n",
      "Tree 7 out of 50\n",
      "Tree 8 out of 50\n",
      "Tree 9 out of 50\n",
      "Tree 10 out of 50\n",
      "Tree 11 out of 50\n",
      "Tree 12 out of 50\n",
      "Tree 13 out of 50\n",
      "Tree 14 out of 50\n",
      "Tree 15 out of 50\n",
      "Tree 16 out of 50\n",
      "Tree 17 out of 50\n",
      "Tree 18 out of 50\n",
      "Tree 19 out of 50\n",
      "Tree 20 out of 50\n",
      "Tree 21 out of 50\n",
      "Tree 22 out of 50\n",
      "Tree 23 out of 50\n",
      "Tree 24 out of 50\n",
      "Tree 25 out of 50\n",
      "Tree 26 out of 50\n",
      "Tree 27 out of 50\n",
      "Tree 28 out of 50\n",
      "Tree 29 out of 50\n",
      "Tree 30 out of 50\n",
      "Tree 31 out of 50\n",
      "Tree 32 out of 50\n",
      "Tree 33 out of 50\n",
      "Tree 34 out of 50\n",
      "Tree 35 out of 50\n",
      "Tree 36 out of 50\n",
      "Tree 37 out of 50\n",
      "Tree 38 out of 50\n",
      "Tree 39 out of 50\n",
      "Tree 40 out of 50\n",
      "Tree 41 out of 50\n",
      "Tree 42 out of 50\n",
      "Tree 43 out of 50\n",
      "Tree 44 out of 50\n",
      "Tree 45 out of 50\n",
      "Tree 46 out of 50\n",
      "Tree 47 out of 50\n",
      "Tree 48 out of 50\n",
      "Tree 49 out of 50\n",
      "Tree 50 out of 50\n"
     ]
    }
   ],
   "metadata": {}
  }
 ],
 "metadata": {
  "orig_nbformat": 4,
  "language_info": {
   "name": "python",
   "version": "3.8.8",
   "mimetype": "text/x-python",
   "codemirror_mode": {
    "name": "ipython",
    "version": 3
   },
   "pygments_lexer": "ipython3",
   "nbconvert_exporter": "python",
   "file_extension": ".py"
  },
  "kernelspec": {
   "name": "python3",
   "display_name": "Python 3.8.8 64-bit (conda)"
  },
  "interpreter": {
   "hash": "4e7a58de4b7e505b0e82f0adcc21bb9621f61c2c1c0bdf66b0394a18a0c298a7"
  }
 },
 "nbformat": 4,
 "nbformat_minor": 2
}