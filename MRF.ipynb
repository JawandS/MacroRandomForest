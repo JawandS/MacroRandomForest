{
 "cells": [
  {
   "cell_type": "code",
   "execution_count": 1,
   "source": [
    "from MRF import *\n",
    "import pandas as pd"
   ],
   "outputs": [],
   "metadata": {}
  },
  {
   "cell_type": "code",
   "execution_count": 2,
   "source": [
    "data_in = pd.read_csv(\"/Users/ryanlucas/Desktop/MRF/MRF_data.csv\")"
   ],
   "outputs": [],
   "metadata": {}
  },
  {
   "cell_type": "code",
   "execution_count": 3,
   "source": [
    "mrf_output = MacroRandomForest(data=data_in,y_pos=0,x_pos=np.arange(1,4), oos_pos=np.arange(151,201),trend_push=4,quantile_rate=0.3)"
   ],
   "outputs": [
    {
     "output_type": "stream",
     "name": "stdout",
     "text": [
      "Tree 1 out of 50\n",
      "2\n",
      "2\n",
      "4\n",
      "(array([  0,   9,  50,  73,  74,  75,  84,  89, 100, 100]), array([4, 3, 3, 2, 1, 3, 4, 4, 3, 4]))\n",
      "(array([  0,   0,   0,   0,   1,   1,   1,   1,   1,   2,   2,   2,   2,\n",
      "         2,   3,   3,   3,   3,   3,   4,   4,   4,   4,   4,   5,   5,\n",
      "         5,   5,   5,   6,   6,   6,   6,   6,   7,   7,   7,   7,   7,\n",
      "         8,   8,   8,   8,   8,   9,   9,   9,   9,  10,  10,  10,  10,\n",
      "        10,  11,  11,  11,  11,  11,  12,  12,  12,  12,  12,  13,  13,\n",
      "        13,  13,  13,  14,  14,  14,  14,  14,  15,  15,  15,  15,  15,\n",
      "        16,  16,  16,  16,  16,  17,  17,  17,  17,  17,  18,  18,  18,\n",
      "        18,  18,  19,  19,  19,  19,  19,  20,  20,  20,  20,  20,  21,\n",
      "        21,  21,  21,  21,  22,  22,  22,  22,  22,  23,  23,  23,  23,\n",
      "        23,  24,  24,  24,  24,  24,  25,  25,  25,  25,  25,  26,  26,\n",
      "        26,  26,  26,  27,  27,  27,  27,  27,  28,  28,  28,  28,  28,\n",
      "        29,  29,  29,  29,  29,  30,  30,  30,  30,  30,  31,  31,  31,\n",
      "        31,  31,  32,  32,  32,  32,  32,  33,  33,  33,  33,  33,  34,\n",
      "        34,  34,  34,  34,  35,  35,  35,  35,  35,  36,  36,  36,  36,\n",
      "        36,  37,  37,  37,  37,  37,  38,  38,  38,  38,  38,  39,  39,\n",
      "        39,  39,  39,  40,  40,  40,  40,  40,  41,  41,  41,  41,  41,\n",
      "        42,  42,  42,  42,  42,  43,  43,  43,  43,  43,  44,  44,  44,\n",
      "        44,  44,  45,  45,  45,  45,  45,  46,  46,  46,  46,  46,  47,\n",
      "        47,  47,  47,  47,  48,  48,  48,  48,  48,  49,  49,  49,  49,\n",
      "        49,  50,  50,  50,  50,  51,  51,  51,  51,  51,  52,  52,  52,\n",
      "        52,  52,  53,  53,  53,  53,  53,  54,  54,  54,  54,  54,  55,\n",
      "        55,  55,  55,  55,  56,  56,  56,  56,  56,  57,  57,  57,  57,\n",
      "        57,  58,  58,  58,  58,  58,  59,  59,  59,  59,  59,  60,  60,\n",
      "        60,  60,  60,  61,  61,  61,  61,  61,  62,  62,  62,  62,  62,\n",
      "        63,  63,  63,  63,  63,  64,  64,  64,  64,  64,  65,  65,  65,\n",
      "        65,  65,  66,  66,  66,  66,  66,  67,  67,  67,  67,  67,  68,\n",
      "        68,  68,  68,  68,  69,  69,  69,  69,  69,  70,  70,  70,  70,\n",
      "        70,  71,  71,  71,  71,  71,  72,  72,  72,  72,  72,  73,  73,\n",
      "        73,  73,  74,  74,  74,  74,  75,  75,  75,  75,  76,  76,  76,\n",
      "        76,  76,  77,  77,  77,  77,  77,  78,  78,  78,  78,  78,  79,\n",
      "        79,  79,  79,  79,  80,  80,  80,  80,  80,  81,  81,  81,  81,\n",
      "        81,  82,  82,  82,  82,  82,  83,  83,  83,  83,  83,  84,  84,\n",
      "        84,  84,  85,  85,  85,  85,  85,  86,  86,  86,  86,  86,  87,\n",
      "        87,  87,  87,  87,  88,  88,  88,  88,  88,  89,  89,  89,  89,\n",
      "        90,  90,  90,  90,  90,  91,  91,  91,  91,  91,  92,  92,  92,\n",
      "        92,  92,  93,  93,  93,  93,  93,  94,  94,  94,  94,  94,  95,\n",
      "        95,  95,  95,  95,  96,  96,  96,  96,  96,  97,  97,  97,  97,\n",
      "        97,  98,  98,  98,  98,  98,  99,  99,  99,  99,  99, 100, 100,\n",
      "       100, 101, 101, 101, 101, 101, 102, 102, 102, 102, 102, 103, 103,\n",
      "       103, 103, 103, 104, 104, 104, 104, 104, 105, 105, 105, 105, 105,\n",
      "       106, 106, 106, 106, 106, 107, 107, 107, 107, 107, 108, 108, 108,\n",
      "       108, 108]), array([0, 1, 2, 3, 0, 1, 2, 3, 4, 0, 1, 2, 3, 4, 0, 1, 2, 3, 4, 0, 1, 2,\n",
      "       3, 4, 0, 1, 2, 3, 4, 0, 1, 2, 3, 4, 0, 1, 2, 3, 4, 0, 1, 2, 3, 4,\n",
      "       0, 1, 2, 4, 0, 1, 2, 3, 4, 0, 1, 2, 3, 4, 0, 1, 2, 3, 4, 0, 1, 2,\n",
      "       3, 4, 0, 1, 2, 3, 4, 0, 1, 2, 3, 4, 0, 1, 2, 3, 4, 0, 1, 2, 3, 4,\n",
      "       0, 1, 2, 3, 4, 0, 1, 2, 3, 4, 0, 1, 2, 3, 4, 0, 1, 2, 3, 4, 0, 1,\n",
      "       2, 3, 4, 0, 1, 2, 3, 4, 0, 1, 2, 3, 4, 0, 1, 2, 3, 4, 0, 1, 2, 3,\n",
      "       4, 0, 1, 2, 3, 4, 0, 1, 2, 3, 4, 0, 1, 2, 3, 4, 0, 1, 2, 3, 4, 0,\n",
      "       1, 2, 3, 4, 0, 1, 2, 3, 4, 0, 1, 2, 3, 4, 0, 1, 2, 3, 4, 0, 1, 2,\n",
      "       3, 4, 0, 1, 2, 3, 4, 0, 1, 2, 3, 4, 0, 1, 2, 3, 4, 0, 1, 2, 3, 4,\n",
      "       0, 1, 2, 3, 4, 0, 1, 2, 3, 4, 0, 1, 2, 3, 4, 0, 1, 2, 3, 4, 0, 1,\n",
      "       2, 3, 4, 0, 1, 2, 3, 4, 0, 1, 2, 3, 4, 0, 1, 2, 3, 4, 0, 1, 2, 3,\n",
      "       4, 0, 1, 2, 3, 4, 0, 1, 2, 4, 0, 1, 2, 3, 4, 0, 1, 2, 3, 4, 0, 1,\n",
      "       2, 3, 4, 0, 1, 2, 3, 4, 0, 1, 2, 3, 4, 0, 1, 2, 3, 4, 0, 1, 2, 3,\n",
      "       4, 0, 1, 2, 3, 4, 0, 1, 2, 3, 4, 0, 1, 2, 3, 4, 0, 1, 2, 3, 4, 0,\n",
      "       1, 2, 3, 4, 0, 1, 2, 3, 4, 0, 1, 2, 3, 4, 0, 1, 2, 3, 4, 0, 1, 2,\n",
      "       3, 4, 0, 1, 2, 3, 4, 0, 1, 2, 3, 4, 0, 1, 2, 3, 4, 0, 1, 2, 3, 4,\n",
      "       0, 1, 2, 3, 4, 0, 1, 2, 3, 4, 0, 1, 3, 4, 0, 2, 3, 4, 0, 1, 2, 4,\n",
      "       0, 1, 2, 3, 4, 0, 1, 2, 3, 4, 0, 1, 2, 3, 4, 0, 1, 2, 3, 4, 0, 1,\n",
      "       2, 3, 4, 0, 1, 2, 3, 4, 0, 1, 2, 3, 4, 0, 1, 2, 3, 4, 0, 1, 2, 3,\n",
      "       0, 1, 2, 3, 4, 0, 1, 2, 3, 4, 0, 1, 2, 3, 4, 0, 1, 2, 3, 4, 0, 1,\n",
      "       2, 3, 0, 1, 2, 3, 4, 0, 1, 2, 3, 4, 0, 1, 2, 3, 4, 0, 1, 2, 3, 4,\n",
      "       0, 1, 2, 3, 4, 0, 1, 2, 3, 4, 0, 1, 2, 3, 4, 0, 1, 2, 3, 4, 0, 1,\n",
      "       2, 3, 4, 0, 1, 2, 3, 4, 0, 1, 2, 0, 1, 2, 3, 4, 0, 1, 2, 3, 4, 0,\n",
      "       1, 2, 3, 4, 0, 1, 2, 3, 4, 0, 1, 2, 3, 4, 0, 1, 2, 3, 4, 0, 1, 2,\n",
      "       3, 4, 0, 1, 2, 3, 4]))\n"
     ]
    },
    {
     "output_type": "error",
     "ename": "UnboundLocalError",
     "evalue": "local variable 'p1' referenced before assignment",
     "traceback": [
      "\u001b[0;31m---------------------------------------------------------------------------\u001b[0m",
      "\u001b[0;31mUnboundLocalError\u001b[0m                         Traceback (most recent call last)",
      "\u001b[0;32m<ipython-input-3-4bb26a04f46d>\u001b[0m in \u001b[0;36m<module>\u001b[0;34m\u001b[0m\n\u001b[0;32m----> 1\u001b[0;31m \u001b[0mmrf_output\u001b[0m \u001b[0;34m=\u001b[0m \u001b[0mMacroRandomForest\u001b[0m\u001b[0;34m(\u001b[0m\u001b[0mdata\u001b[0m\u001b[0;34m=\u001b[0m\u001b[0mdata_in\u001b[0m\u001b[0;34m,\u001b[0m\u001b[0my_pos\u001b[0m\u001b[0;34m=\u001b[0m\u001b[0;36m0\u001b[0m\u001b[0;34m,\u001b[0m\u001b[0mx_pos\u001b[0m\u001b[0;34m=\u001b[0m\u001b[0mnp\u001b[0m\u001b[0;34m.\u001b[0m\u001b[0marange\u001b[0m\u001b[0;34m(\u001b[0m\u001b[0;36m1\u001b[0m\u001b[0;34m,\u001b[0m\u001b[0;36m4\u001b[0m\u001b[0;34m)\u001b[0m\u001b[0;34m,\u001b[0m \u001b[0moos_pos\u001b[0m\u001b[0;34m=\u001b[0m\u001b[0mnp\u001b[0m\u001b[0;34m.\u001b[0m\u001b[0marange\u001b[0m\u001b[0;34m(\u001b[0m\u001b[0;36m151\u001b[0m\u001b[0;34m,\u001b[0m\u001b[0;36m201\u001b[0m\u001b[0;34m)\u001b[0m\u001b[0;34m,\u001b[0m\u001b[0mtrend_push\u001b[0m\u001b[0;34m=\u001b[0m\u001b[0;36m4\u001b[0m\u001b[0;34m,\u001b[0m\u001b[0mquantile_rate\u001b[0m\u001b[0;34m=\u001b[0m\u001b[0;36m0.3\u001b[0m\u001b[0;34m)\u001b[0m\u001b[0;34m\u001b[0m\u001b[0;34m\u001b[0m\u001b[0m\n\u001b[0m",
      "\u001b[0;32m~/Desktop/MacroRandomForest/MRF.py\u001b[0m in \u001b[0;36m__init__\u001b[0;34m(self, data, x_pos, oos_pos, y_pos, minsize, mtry_frac, min_leaf_frac_of_x, VI, ERT, quantile_rate, S_priority_vec, random_x, trend_push, howmany_random_x, howmany_keep_best_VI, cheap_look_at_GTVPs, prior_var, prior_mean, subsampling_rate, rw_regul, keep_forest, block_size, fast_rw, ridge_lambda, HRW, B, resampling_opt, print_b)\u001b[0m\n\u001b[1;32m     63\u001b[0m \u001b[0;34m\u001b[0m\u001b[0m\n\u001b[1;32m     64\u001b[0m         \u001b[0;31m######## TRAIN FOREST ###########\u001b[0m\u001b[0;34m\u001b[0m\u001b[0;34m\u001b[0m\u001b[0;34m\u001b[0m\u001b[0m\n\u001b[0;32m---> 65\u001b[0;31m         \u001b[0mself\u001b[0m\u001b[0;34m.\u001b[0m\u001b[0m_ensemble_loop\u001b[0m\u001b[0;34m(\u001b[0m\u001b[0;34m)\u001b[0m\u001b[0;34m\u001b[0m\u001b[0;34m\u001b[0m\u001b[0m\n\u001b[0m\u001b[1;32m     66\u001b[0m \u001b[0;34m\u001b[0m\u001b[0m\n\u001b[1;32m     67\u001b[0m     \u001b[0;32mdef\u001b[0m \u001b[0m_name_translations\u001b[0m\u001b[0;34m(\u001b[0m\u001b[0mself\u001b[0m\u001b[0;34m)\u001b[0m\u001b[0;34m:\u001b[0m\u001b[0;34m\u001b[0m\u001b[0;34m\u001b[0m\u001b[0m\n",
      "\u001b[0;32m~/Desktop/MacroRandomForest/MRF.py\u001b[0m in \u001b[0;36m_ensemble_loop\u001b[0;34m(self)\u001b[0m\n\u001b[1;32m    252\u001b[0m                 \u001b[0mself\u001b[0m\u001b[0;34m.\u001b[0m\u001b[0mz_pos_effective\u001b[0m \u001b[0;34m=\u001b[0m \u001b[0mself\u001b[0m\u001b[0;34m.\u001b[0m\u001b[0mz_pos\u001b[0m\u001b[0;34m\u001b[0m\u001b[0;34m\u001b[0m\u001b[0m\n\u001b[1;32m    253\u001b[0m \u001b[0;34m\u001b[0m\u001b[0m\n\u001b[0;32m--> 254\u001b[0;31m             \u001b[0mself\u001b[0m\u001b[0;34m.\u001b[0m\u001b[0mrt_output\u001b[0m \u001b[0;34m=\u001b[0m \u001b[0mself\u001b[0m\u001b[0;34m.\u001b[0m\u001b[0m_one_MRF_tree\u001b[0m\u001b[0;34m(\u001b[0m\u001b[0;34m)\u001b[0m\u001b[0;34m\u001b[0m\u001b[0;34m\u001b[0m\u001b[0m\n\u001b[0m\u001b[1;32m    255\u001b[0m \u001b[0;34m\u001b[0m\u001b[0m\n\u001b[1;32m    256\u001b[0m     \u001b[0;32mdef\u001b[0m \u001b[0m_process_subsampling_selection\u001b[0m\u001b[0;34m(\u001b[0m\u001b[0mself\u001b[0m\u001b[0;34m)\u001b[0m\u001b[0;34m:\u001b[0m\u001b[0;34m\u001b[0m\u001b[0;34m\u001b[0m\u001b[0m\n",
      "\u001b[0;32m~/Desktop/MacroRandomForest/MRF.py\u001b[0m in \u001b[0;36m_one_MRF_tree\u001b[0;34m(self)\u001b[0m\n\u001b[1;32m    435\u001b[0m                     \u001b[0mself\u001b[0m\u001b[0;34m.\u001b[0m\u001b[0mselect_from\u001b[0m \u001b[0;34m=\u001b[0m \u001b[0mnp\u001b[0m\u001b[0;34m.\u001b[0m\u001b[0marange\u001b[0m\u001b[0;34m(\u001b[0m\u001b[0;36m0\u001b[0m\u001b[0;34m,\u001b[0m \u001b[0mlen\u001b[0m\u001b[0;34m(\u001b[0m\u001b[0mself\u001b[0m\u001b[0;34m.\u001b[0m\u001b[0mSET\u001b[0m\u001b[0;34m.\u001b[0m\u001b[0mcolumns\u001b[0m\u001b[0;34m)\u001b[0m\u001b[0;34m)\u001b[0m\u001b[0;34m\u001b[0m\u001b[0;34m\u001b[0m\u001b[0m\n\u001b[1;32m    436\u001b[0m \u001b[0;34m\u001b[0m\u001b[0m\n\u001b[0;32m--> 437\u001b[0;31m                 splitting = self._splitter_mrf(\n\u001b[0m\u001b[1;32m    438\u001b[0m                     self.SET.iloc[:, self.select_from])\n\u001b[1;32m    439\u001b[0m \u001b[0;34m\u001b[0m\u001b[0m\n",
      "\u001b[0;32m~/Desktop/MacroRandomForest/MRF.py\u001b[0m in \u001b[0;36m_splitter_mrf\u001b[0;34m(self, x)\u001b[0m\n\u001b[1;32m    651\u001b[0m             \u001b[0mprint\u001b[0m\u001b[0;34m(\u001b[0m\u001b[0mid1\u001b[0m\u001b[0;34m)\u001b[0m\u001b[0;34m\u001b[0m\u001b[0;34m\u001b[0m\u001b[0m\n\u001b[1;32m    652\u001b[0m             \u001b[0mprint\u001b[0m\u001b[0;34m(\u001b[0m\u001b[0mid2\u001b[0m\u001b[0;34m)\u001b[0m\u001b[0;34m\u001b[0m\u001b[0;34m\u001b[0m\u001b[0m\n\u001b[0;32m--> 653\u001b[0;31m             \u001b[0msse\u001b[0m\u001b[0;34m[\u001b[0m\u001b[0mi\u001b[0m\u001b[0;34m]\u001b[0m \u001b[0;34m=\u001b[0m \u001b[0msum\u001b[0m\u001b[0;34m(\u001b[0m\u001b[0;34m(\u001b[0m\u001b[0my\u001b[0m\u001b[0;34m.\u001b[0m\u001b[0mtake\u001b[0m\u001b[0;34m(\u001b[0m\u001b[0;34m[\u001b[0m\u001b[0mid1\u001b[0m\u001b[0;34m]\u001b[0m\u001b[0;34m)\u001b[0m \u001b[0;34m-\u001b[0m \u001b[0mp1\u001b[0m\u001b[0;34m)\u001b[0m \u001b[0;34m^\u001b[0m \u001b[0;36m2\u001b[0m\u001b[0;34m)\u001b[0m \u001b[0;34m+\u001b[0m\u001b[0;31m \u001b[0m\u001b[0;31m\\\u001b[0m\u001b[0;34m\u001b[0m\u001b[0;34m\u001b[0m\u001b[0m\n\u001b[0m\u001b[1;32m    654\u001b[0m                 \u001b[0msum\u001b[0m\u001b[0;34m(\u001b[0m\u001b[0;34m(\u001b[0m\u001b[0my\u001b[0m\u001b[0;34m.\u001b[0m\u001b[0mtake\u001b[0m\u001b[0;34m(\u001b[0m\u001b[0;34m[\u001b[0m\u001b[0mid2\u001b[0m\u001b[0;34m]\u001b[0m\u001b[0;34m)\u001b[0m \u001b[0;34m-\u001b[0m \u001b[0mp2\u001b[0m\u001b[0;34m)\u001b[0m \u001b[0;34m^\u001b[0m \u001b[0;36m2\u001b[0m\u001b[0;34m)\u001b[0m\u001b[0;34m\u001b[0m\u001b[0;34m\u001b[0m\u001b[0m\n\u001b[1;32m    655\u001b[0m \u001b[0;34m\u001b[0m\u001b[0m\n",
      "\u001b[0;31mUnboundLocalError\u001b[0m: local variable 'p1' referenced before assignment"
     ]
    }
   ],
   "metadata": {}
  }
 ],
 "metadata": {
  "orig_nbformat": 4,
  "language_info": {
   "name": "python",
   "version": "3.8.8",
   "mimetype": "text/x-python",
   "codemirror_mode": {
    "name": "ipython",
    "version": 3
   },
   "pygments_lexer": "ipython3",
   "nbconvert_exporter": "python",
   "file_extension": ".py"
  },
  "kernelspec": {
   "name": "python3",
   "display_name": "Python 3.8.8 64-bit ('base': conda)"
  },
  "interpreter": {
   "hash": "4e7a58de4b7e505b0e82f0adcc21bb9621f61c2c1c0bdf66b0394a18a0c298a7"
  }
 },
 "nbformat": 4,
 "nbformat_minor": 2
}